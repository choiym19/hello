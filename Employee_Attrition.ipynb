{
  "nbformat": 4,
  "nbformat_minor": 0,
  "metadata": {
    "colab": {
      "name": "Employee Attrition.ipynb",
      "provenance": [],
      "authorship_tag": "ABX9TyO47mL1lnsgu/wne+h+Ud0H",
      "include_colab_link": true
    },
    "kernelspec": {
      "name": "python3",
      "display_name": "Python 3"
    },
    "language_info": {
      "name": "python"
    }
  },
  "cells": [
    {
      "cell_type": "markdown",
      "metadata": {
        "id": "view-in-github",
        "colab_type": "text"
      },
      "source": [
        "<a href=\"https://colab.research.google.com/github/choiym19/hello/blob/main/Employee_Attrition.ipynb\" target=\"_parent\"><img src=\"https://colab.research.google.com/assets/colab-badge.svg\" alt=\"Open In Colab\"/></a>"
      ]
    },
    {
      "cell_type": "code",
      "metadata": {
        "id": "6xgr6MF_PUzy"
      },
      "source": [
        "import pandas as pd\n",
        "import seaborn as sns"
      ],
      "execution_count": 1,
      "outputs": []
    },
    {
      "cell_type": "code",
      "metadata": {
        "id": "eLs3cSxBPsb5"
      },
      "source": [
        "url = 'http://bit.ly/hr_dataset'\n",
        "df_employees = pd.read_csv(url)"
      ],
      "execution_count": 2,
      "outputs": []
    },
    {
      "cell_type": "code",
      "metadata": {
        "colab": {
          "base_uri": "https://localhost:8080/"
        },
        "id": "7CX0G_6XQ3hJ",
        "outputId": "0524d09b-a5f2-41fc-9c0b-e09bc3568996"
      },
      "source": [
        "df_employees.shape"
      ],
      "execution_count": 3,
      "outputs": [
        {
          "output_type": "execute_result",
          "data": {
            "text/plain": [
              "(310, 19)"
            ]
          },
          "metadata": {
            "tags": []
          },
          "execution_count": 3
        }
      ]
    },
    {
      "cell_type": "code",
      "metadata": {
        "colab": {
          "base_uri": "https://localhost:8080/",
          "height": 284
        },
        "id": "wC90WvmKQ7O0",
        "outputId": "c54c2e5c-cc0b-4078-f2e1-e585b33269f8"
      },
      "source": [
        "df_employees.describe()"
      ],
      "execution_count": 4,
      "outputs": [
        {
          "output_type": "execute_result",
          "data": {
            "text/html": [
              "<div>\n",
              "<style scoped>\n",
              "    .dataframe tbody tr th:only-of-type {\n",
              "        vertical-align: middle;\n",
              "    }\n",
              "\n",
              "    .dataframe tbody tr th {\n",
              "        vertical-align: top;\n",
              "    }\n",
              "\n",
              "    .dataframe thead th {\n",
              "        text-align: right;\n",
              "    }\n",
              "</style>\n",
              "<table border=\"1\" class=\"dataframe\">\n",
              "  <thead>\n",
              "    <tr style=\"text-align: right;\">\n",
              "      <th></th>\n",
              "      <th>Employee Number</th>\n",
              "      <th>Age</th>\n",
              "      <th>Pay Rate</th>\n",
              "    </tr>\n",
              "  </thead>\n",
              "  <tbody>\n",
              "    <tr>\n",
              "      <th>count</th>\n",
              "      <td>3.100000e+02</td>\n",
              "      <td>310.000000</td>\n",
              "      <td>310.000000</td>\n",
              "    </tr>\n",
              "    <tr>\n",
              "      <th>mean</th>\n",
              "      <td>1.199745e+09</td>\n",
              "      <td>38.867742</td>\n",
              "      <td>31.284806</td>\n",
              "    </tr>\n",
              "    <tr>\n",
              "      <th>std</th>\n",
              "      <td>1.829600e+08</td>\n",
              "      <td>8.922459</td>\n",
              "      <td>15.383615</td>\n",
              "    </tr>\n",
              "    <tr>\n",
              "      <th>min</th>\n",
              "      <td>6.020003e+08</td>\n",
              "      <td>25.000000</td>\n",
              "      <td>14.000000</td>\n",
              "    </tr>\n",
              "    <tr>\n",
              "      <th>25%</th>\n",
              "      <td>1.101024e+09</td>\n",
              "      <td>32.000000</td>\n",
              "      <td>20.000000</td>\n",
              "    </tr>\n",
              "    <tr>\n",
              "      <th>50%</th>\n",
              "      <td>1.203032e+09</td>\n",
              "      <td>37.000000</td>\n",
              "      <td>24.000000</td>\n",
              "    </tr>\n",
              "    <tr>\n",
              "      <th>75%</th>\n",
              "      <td>1.378814e+09</td>\n",
              "      <td>44.000000</td>\n",
              "      <td>45.315000</td>\n",
              "    </tr>\n",
              "    <tr>\n",
              "      <th>max</th>\n",
              "      <td>1.988300e+09</td>\n",
              "      <td>67.000000</td>\n",
              "      <td>80.000000</td>\n",
              "    </tr>\n",
              "  </tbody>\n",
              "</table>\n",
              "</div>"
            ],
            "text/plain": [
              "       Employee Number         Age    Pay Rate\n",
              "count     3.100000e+02  310.000000  310.000000\n",
              "mean      1.199745e+09   38.867742   31.284806\n",
              "std       1.829600e+08    8.922459   15.383615\n",
              "min       6.020003e+08   25.000000   14.000000\n",
              "25%       1.101024e+09   32.000000   20.000000\n",
              "50%       1.203032e+09   37.000000   24.000000\n",
              "75%       1.378814e+09   44.000000   45.315000\n",
              "max       1.988300e+09   67.000000   80.000000"
            ]
          },
          "metadata": {
            "tags": []
          },
          "execution_count": 4
        }
      ]
    },
    {
      "cell_type": "code",
      "metadata": {
        "colab": {
          "base_uri": "https://localhost:8080/",
          "height": 417
        },
        "id": "8QAJUiYPRAZq",
        "outputId": "4ba1de48-1ed8-4b45-f705-2492fb3786d5"
      },
      "source": [
        "df_employees.head()"
      ],
      "execution_count": 5,
      "outputs": [
        {
          "output_type": "execute_result",
          "data": {
            "text/html": [
              "<div>\n",
              "<style scoped>\n",
              "    .dataframe tbody tr th:only-of-type {\n",
              "        vertical-align: middle;\n",
              "    }\n",
              "\n",
              "    .dataframe tbody tr th {\n",
              "        vertical-align: top;\n",
              "    }\n",
              "\n",
              "    .dataframe thead th {\n",
              "        text-align: right;\n",
              "    }\n",
              "</style>\n",
              "<table border=\"1\" class=\"dataframe\">\n",
              "  <thead>\n",
              "    <tr style=\"text-align: right;\">\n",
              "      <th></th>\n",
              "      <th>Employee Name</th>\n",
              "      <th>Employee Number</th>\n",
              "      <th>Age</th>\n",
              "      <th>Pay Rate</th>\n",
              "      <th>State</th>\n",
              "      <th>DOB</th>\n",
              "      <th>Sex</th>\n",
              "      <th>CitizenDesc</th>\n",
              "      <th>Hispanic/Latino</th>\n",
              "      <th>RaceDesc</th>\n",
              "      <th>Date of Hire</th>\n",
              "      <th>Date of Termination</th>\n",
              "      <th>Reason For Term</th>\n",
              "      <th>Employment Status</th>\n",
              "      <th>Department</th>\n",
              "      <th>Position</th>\n",
              "      <th>Manager Name</th>\n",
              "      <th>Employee Source</th>\n",
              "      <th>Performance Score</th>\n",
              "    </tr>\n",
              "  </thead>\n",
              "  <tbody>\n",
              "    <tr>\n",
              "      <th>0</th>\n",
              "      <td>Brown, Mia</td>\n",
              "      <td>1103024456</td>\n",
              "      <td>30</td>\n",
              "      <td>28.50</td>\n",
              "      <td>MA</td>\n",
              "      <td>11/24/1987</td>\n",
              "      <td>Female</td>\n",
              "      <td>US Citizen</td>\n",
              "      <td>No</td>\n",
              "      <td>Black or African American</td>\n",
              "      <td>10/27/2008</td>\n",
              "      <td>NaN</td>\n",
              "      <td>N/A - still employed</td>\n",
              "      <td>Active</td>\n",
              "      <td>Admin Offices</td>\n",
              "      <td>Accountant I</td>\n",
              "      <td>Brandon R. LeBlanc</td>\n",
              "      <td>Diversity Job Fair</td>\n",
              "      <td>Fully Meets</td>\n",
              "    </tr>\n",
              "    <tr>\n",
              "      <th>1</th>\n",
              "      <td>LaRotonda, William</td>\n",
              "      <td>1106026572</td>\n",
              "      <td>34</td>\n",
              "      <td>23.00</td>\n",
              "      <td>MA</td>\n",
              "      <td>4/26/1984</td>\n",
              "      <td>Male</td>\n",
              "      <td>US Citizen</td>\n",
              "      <td>No</td>\n",
              "      <td>Black or African American</td>\n",
              "      <td>1/6/2014</td>\n",
              "      <td>NaN</td>\n",
              "      <td>N/A - still employed</td>\n",
              "      <td>Active</td>\n",
              "      <td>Admin Offices</td>\n",
              "      <td>Accountant I</td>\n",
              "      <td>Brandon R. LeBlanc</td>\n",
              "      <td>Website Banner Ads</td>\n",
              "      <td>Fully Meets</td>\n",
              "    </tr>\n",
              "    <tr>\n",
              "      <th>2</th>\n",
              "      <td>Steans, Tyrone</td>\n",
              "      <td>1302053333</td>\n",
              "      <td>31</td>\n",
              "      <td>29.00</td>\n",
              "      <td>MA</td>\n",
              "      <td>9/1/1986</td>\n",
              "      <td>Male</td>\n",
              "      <td>US Citizen</td>\n",
              "      <td>No</td>\n",
              "      <td>White</td>\n",
              "      <td>9/29/2014</td>\n",
              "      <td>NaN</td>\n",
              "      <td>N/A - still employed</td>\n",
              "      <td>Active</td>\n",
              "      <td>Admin Offices</td>\n",
              "      <td>Accountant I</td>\n",
              "      <td>Brandon R. LeBlanc</td>\n",
              "      <td>Internet Search</td>\n",
              "      <td>Fully Meets</td>\n",
              "    </tr>\n",
              "    <tr>\n",
              "      <th>3</th>\n",
              "      <td>Howard, Estelle</td>\n",
              "      <td>1211050782</td>\n",
              "      <td>32</td>\n",
              "      <td>21.50</td>\n",
              "      <td>MA</td>\n",
              "      <td>9/16/1985</td>\n",
              "      <td>Female</td>\n",
              "      <td>US Citizen</td>\n",
              "      <td>No</td>\n",
              "      <td>White</td>\n",
              "      <td>2/16/2015</td>\n",
              "      <td>4/15/2015</td>\n",
              "      <td>N/A - still employed</td>\n",
              "      <td>Active</td>\n",
              "      <td>Admin Offices</td>\n",
              "      <td>Administrative Assistant</td>\n",
              "      <td>Brandon R. LeBlanc</td>\n",
              "      <td>Pay Per Click - Google</td>\n",
              "      <td>N/A- too early to review</td>\n",
              "    </tr>\n",
              "    <tr>\n",
              "      <th>4</th>\n",
              "      <td>Singh, Nan</td>\n",
              "      <td>1307059817</td>\n",
              "      <td>30</td>\n",
              "      <td>16.56</td>\n",
              "      <td>MA</td>\n",
              "      <td>5/19/1988</td>\n",
              "      <td>Female</td>\n",
              "      <td>US Citizen</td>\n",
              "      <td>No</td>\n",
              "      <td>White</td>\n",
              "      <td>5/1/2015</td>\n",
              "      <td>NaN</td>\n",
              "      <td>N/A - still employed</td>\n",
              "      <td>Active</td>\n",
              "      <td>Admin Offices</td>\n",
              "      <td>Administrative Assistant</td>\n",
              "      <td>Brandon R. LeBlanc</td>\n",
              "      <td>Website Banner Ads</td>\n",
              "      <td>N/A- too early to review</td>\n",
              "    </tr>\n",
              "  </tbody>\n",
              "</table>\n",
              "</div>"
            ],
            "text/plain": [
              "          Employee Name  ...         Performance Score\n",
              "0            Brown, Mia  ...               Fully Meets\n",
              "1  LaRotonda, William    ...               Fully Meets\n",
              "2      Steans, Tyrone    ...               Fully Meets\n",
              "3       Howard, Estelle  ...  N/A- too early to review\n",
              "4           Singh, Nan   ...  N/A- too early to review\n",
              "\n",
              "[5 rows x 19 columns]"
            ]
          },
          "metadata": {
            "tags": []
          },
          "execution_count": 5
        }
      ]
    },
    {
      "cell_type": "code",
      "metadata": {
        "colab": {
          "base_uri": "https://localhost:8080/",
          "height": 386
        },
        "id": "T0iPC2BWRHsY",
        "outputId": "20580e34-1267-4c5d-b574-5c8ba967d9df"
      },
      "source": [
        "sns.displot(df_employees, x= \"Pay Rate\", kind ='kde', fill = True)"
      ],
      "execution_count": 6,
      "outputs": [
        {
          "output_type": "execute_result",
          "data": {
            "text/plain": [
              "<seaborn.axisgrid.FacetGrid at 0x7f8450d34410>"
            ]
          },
          "metadata": {
            "tags": []
          },
          "execution_count": 6
        },
        {
          "output_type": "display_data",
          "data": {
            "image/png": "[encoded data removed]",
            "text/plain": [
              "<Figure size 360x360 with 1 Axes>"
            ]
          },
          "metadata": {
            "tags": [],
            "needs_background": "light"
          }
        }
      ]
    },
    {
      "cell_type": "code",
      "metadata": {
        "colab": {
          "base_uri": "https://localhost:8080/",
          "height": 386
        },
        "id": "jGeGjs5sRP0L",
        "outputId": "7a9bed00-b61c-4e14-ea1c-565a515bbca2"
      },
      "source": [
        "sns.displot(df_employees, x = \"Pay Rate\", hue=\"Sex\", kind = \"kde\", fill = True)"
      ],
      "execution_count": 7,
      "outputs": [
        {
          "output_type": "execute_result",
          "data": {
            "text/plain": [
              "<seaborn.axisgrid.FacetGrid at 0x7f844590d590>"
            ]
          },
          "metadata": {
            "tags": []
          },
          "execution_count": 7
        },
        {
          "output_type": "display_data",
          "data": {
            "image/png": "[encoded data removed]",
            "text/plain": [
              "<Figure size 432.125x360 with 1 Axes>"
            ]
          },
          "metadata": {
            "tags": [],
            "needs_background": "light"
          }
        }
      ]
    },
    {
      "cell_type": "code",
      "metadata": {
        "id": "M4lL7GQ9R6qM"
      },
      "source": [
        ""
      ],
      "execution_count": 7,
      "outputs": []
    }
  ]
}